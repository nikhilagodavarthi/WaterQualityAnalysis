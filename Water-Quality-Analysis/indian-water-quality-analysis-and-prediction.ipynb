{
 "cells": [
  {
   "cell_type": "code",
   "execution_count": 7,
   "metadata": {
    "_cell_guid": "b1076dfc-b9ad-4769-8c92-a6c4dae69d19",
    "_uuid": "8f2839f25d086af736a60e9eeb907d3b93b6e0e5",
    "execution": {
     "iopub.execute_input": "2022-06-14T03:58:58.927471Z",
     "iopub.status.busy": "2022-06-14T03:58:58.927025Z",
     "iopub.status.idle": "2022-06-14T03:58:58.935070Z",
     "shell.execute_reply": "2022-06-14T03:58:58.934261Z",
     "shell.execute_reply.started": "2022-06-14T03:58:58.927413Z"
    }
   },
   "outputs": [
    {
     "name": "stdout",
     "output_type": "stream",
     "text": [
      "['water_dataX.csv']\n"
     ]
    }
   ],
   "source": [
    "# This Python 3 environment comes with many helpful analytics libraries installed\n",
    "# It is defined by the kaggle/python docker image: https://github.com/kaggle/docker-python\n",
    "# For example, here's several helpful packages to load in \n",
    "\n",
    "import numpy as np # linear algebra\n",
    "import pandas as pd # data processing, CSV file I/O (e.g. pd.read_csv)\n",
    "\n",
    "# Input data files are available in the \"../input/\" directory.\n",
    "# For example, running this (by clicking run or pressing Shift+Enter) will list the files in the input directory\n",
    "\n",
    "import os\n",
    "print(os.listdir(\"./input\"))\n",
    "\n",
    "# Any results you write to the current directory are saved as output."
   ]
  },
  {
   "cell_type": "code",
   "execution_count": 8,
   "metadata": {
    "_cell_guid": "79c7e3d0-c299-4dcb-8224-4455121ee9b0",
    "_kg_hide-input": true,
    "_uuid": "d629ff2d2480ee46fbb7e2d37f6b5fab8052498a",
    "execution": {
     "iopub.execute_input": "2022-06-14T03:58:58.937109Z",
     "iopub.status.busy": "2022-06-14T03:58:58.936708Z",
     "iopub.status.idle": "2022-06-14T03:58:58.986383Z",
     "shell.execute_reply": "2022-06-14T03:58:58.985440Z",
     "shell.execute_reply.started": "2022-06-14T03:58:58.937067Z"
    }
   },
   "outputs": [
    {
     "data": {
      "text/html": [
       "<div>\n",
       "<style scoped>\n",
       "    .dataframe tbody tr th:only-of-type {\n",
       "        vertical-align: middle;\n",
       "    }\n",
       "\n",
       "    .dataframe tbody tr th {\n",
       "        vertical-align: top;\n",
       "    }\n",
       "\n",
       "    .dataframe thead th {\n",
       "        text-align: right;\n",
       "    }\n",
       "</style>\n",
       "<table border=\"1\" class=\"dataframe\">\n",
       "  <thead>\n",
       "    <tr style=\"text-align: right;\">\n",
       "      <th></th>\n",
       "      <th>STATION CODE</th>\n",
       "      <th>LOCATIONS</th>\n",
       "      <th>STATE</th>\n",
       "      <th>Temp</th>\n",
       "      <th>D.O. (mg/l)</th>\n",
       "      <th>PH</th>\n",
       "      <th>CONDUCTIVITY (µmhos/cm)</th>\n",
       "      <th>B.O.D. (mg/l)</th>\n",
       "      <th>NITRATENAN N+ NITRITENANN (mg/l)</th>\n",
       "      <th>FECAL COLIFORM (MPN/100ml)</th>\n",
       "      <th>TOTAL COLIFORM (MPN/100ml)Mean</th>\n",
       "      <th>year</th>\n",
       "    </tr>\n",
       "  </thead>\n",
       "  <tbody>\n",
       "    <tr>\n",
       "      <th>0</th>\n",
       "      <td>1393</td>\n",
       "      <td>DAMANGANGA AT D/S OF MADHUBAN, DAMAN</td>\n",
       "      <td>DAMAN &amp; DIU</td>\n",
       "      <td>30.6</td>\n",
       "      <td>6.7</td>\n",
       "      <td>7.5</td>\n",
       "      <td>203</td>\n",
       "      <td>NAN</td>\n",
       "      <td>0.1</td>\n",
       "      <td>11</td>\n",
       "      <td>27</td>\n",
       "      <td>2014</td>\n",
       "    </tr>\n",
       "    <tr>\n",
       "      <th>1</th>\n",
       "      <td>1399</td>\n",
       "      <td>ZUARI AT D/S OF PT. WHERE KUMBARJRIA CANAL JOI...</td>\n",
       "      <td>GOA</td>\n",
       "      <td>29.8</td>\n",
       "      <td>5.7</td>\n",
       "      <td>7.2</td>\n",
       "      <td>189</td>\n",
       "      <td>2</td>\n",
       "      <td>0.2</td>\n",
       "      <td>4953</td>\n",
       "      <td>8391</td>\n",
       "      <td>2014</td>\n",
       "    </tr>\n",
       "    <tr>\n",
       "      <th>2</th>\n",
       "      <td>1475</td>\n",
       "      <td>ZUARI AT PANCHAWADI</td>\n",
       "      <td>GOA</td>\n",
       "      <td>29.5</td>\n",
       "      <td>6.3</td>\n",
       "      <td>6.9</td>\n",
       "      <td>179</td>\n",
       "      <td>1.7</td>\n",
       "      <td>0.1</td>\n",
       "      <td>3243</td>\n",
       "      <td>5330</td>\n",
       "      <td>2014</td>\n",
       "    </tr>\n",
       "    <tr>\n",
       "      <th>3</th>\n",
       "      <td>3181</td>\n",
       "      <td>RIVER ZUARI AT BORIM BRIDGE</td>\n",
       "      <td>GOA</td>\n",
       "      <td>29.7</td>\n",
       "      <td>5.8</td>\n",
       "      <td>6.9</td>\n",
       "      <td>64</td>\n",
       "      <td>3.8</td>\n",
       "      <td>0.5</td>\n",
       "      <td>5382</td>\n",
       "      <td>8443</td>\n",
       "      <td>2014</td>\n",
       "    </tr>\n",
       "    <tr>\n",
       "      <th>4</th>\n",
       "      <td>3182</td>\n",
       "      <td>RIVER ZUARI AT MARCAIM JETTY</td>\n",
       "      <td>GOA</td>\n",
       "      <td>29.5</td>\n",
       "      <td>5.8</td>\n",
       "      <td>7.3</td>\n",
       "      <td>83</td>\n",
       "      <td>1.9</td>\n",
       "      <td>0.4</td>\n",
       "      <td>3428</td>\n",
       "      <td>5500</td>\n",
       "      <td>2014</td>\n",
       "    </tr>\n",
       "  </tbody>\n",
       "</table>\n",
       "</div>"
      ],
      "text/plain": [
       "  STATION CODE                                          LOCATIONS  \\\n",
       "0         1393               DAMANGANGA AT D/S OF MADHUBAN, DAMAN   \n",
       "1         1399  ZUARI AT D/S OF PT. WHERE KUMBARJRIA CANAL JOI...   \n",
       "2         1475                                ZUARI AT PANCHAWADI   \n",
       "3         3181                        RIVER ZUARI AT BORIM BRIDGE   \n",
       "4         3182                       RIVER ZUARI AT MARCAIM JETTY   \n",
       "\n",
       "         STATE  Temp D.O. (mg/l)   PH CONDUCTIVITY (µmhos/cm) B.O.D. (mg/l)  \\\n",
       "0  DAMAN & DIU  30.6         6.7  7.5                     203           NAN   \n",
       "1          GOA  29.8         5.7  7.2                     189             2   \n",
       "2          GOA  29.5         6.3  6.9                     179           1.7   \n",
       "3          GOA  29.7         5.8  6.9                      64           3.8   \n",
       "4          GOA  29.5         5.8  7.3                      83           1.9   \n",
       "\n",
       "  NITRATENAN N+ NITRITENANN (mg/l) FECAL COLIFORM (MPN/100ml)  \\\n",
       "0                              0.1                         11   \n",
       "1                              0.2                       4953   \n",
       "2                              0.1                       3243   \n",
       "3                              0.5                       5382   \n",
       "4                              0.4                       3428   \n",
       "\n",
       "  TOTAL COLIFORM (MPN/100ml)Mean  year  \n",
       "0                             27  2014  \n",
       "1                           8391  2014  \n",
       "2                           5330  2014  \n",
       "3                           8443  2014  \n",
       "4                           5500  2014  "
      ]
     },
     "execution_count": 8,
     "metadata": {},
     "output_type": "execute_result"
    }
   ],
   "source": [
    "data=pd.read_csv('./input/water_dataX.csv',encoding=\"ISO-8859-1\")\n",
    "data.fillna(0, inplace=True)\n",
    "data.head()"
   ]
  },
  {
   "cell_type": "code",
   "execution_count": 9,
   "metadata": {
    "_uuid": "f2fa8c8216c8a43293bac6a54ba1b268d7df72ec",
    "execution": {
     "iopub.execute_input": "2022-06-14T03:58:58.988013Z",
     "iopub.status.busy": "2022-06-14T03:58:58.987629Z",
     "iopub.status.idle": "2022-06-14T03:58:58.995349Z",
     "shell.execute_reply": "2022-06-14T03:58:58.994612Z",
     "shell.execute_reply.started": "2022-06-14T03:58:58.987967Z"
    }
   },
   "outputs": [
    {
     "data": {
      "text/plain": [
       "STATION CODE                        object\n",
       "LOCATIONS                           object\n",
       "STATE                               object\n",
       "Temp                                object\n",
       "D.O. (mg/l)                         object\n",
       "PH                                  object\n",
       "CONDUCTIVITY (µmhos/cm)             object\n",
       "B.O.D. (mg/l)                       object\n",
       "NITRATENAN N+ NITRITENANN (mg/l)    object\n",
       "FECAL COLIFORM (MPN/100ml)          object\n",
       "TOTAL COLIFORM (MPN/100ml)Mean      object\n",
       "year                                 int64\n",
       "dtype: object"
      ]
     },
     "execution_count": 9,
     "metadata": {},
     "output_type": "execute_result"
    }
   ],
   "source": [
    "data.dtypes"
   ]
  },
  {
   "cell_type": "code",
   "execution_count": 10,
   "metadata": {
    "_uuid": "85fd6c55da7ba22c20a28000d90cb7d09c847e92",
    "execution": {
     "iopub.execute_input": "2022-06-14T03:58:58.997301Z",
     "iopub.status.busy": "2022-06-14T03:58:58.996898Z",
     "iopub.status.idle": "2022-06-14T03:58:59.028913Z",
     "shell.execute_reply": "2022-06-14T03:58:59.027898Z",
     "shell.execute_reply.started": "2022-06-14T03:58:58.997244Z"
    }
   },
   "outputs": [
    {
     "data": {
      "text/plain": [
       "STATION CODE                         object\n",
       "LOCATIONS                            object\n",
       "STATE                                object\n",
       "Temp                                float64\n",
       "D.O. (mg/l)                         float64\n",
       "PH                                  float64\n",
       "CONDUCTIVITY (µmhos/cm)             float64\n",
       "B.O.D. (mg/l)                       float64\n",
       "NITRATENAN N+ NITRITENANN (mg/l)    float64\n",
       "FECAL COLIFORM (MPN/100ml)           object\n",
       "TOTAL COLIFORM (MPN/100ml)Mean      float64\n",
       "year                                  int64\n",
       "dtype: object"
      ]
     },
     "execution_count": 10,
     "metadata": {},
     "output_type": "execute_result"
    }
   ],
   "source": [
    "#conversions\n",
    "data['Temp']=pd.to_numeric(data['Temp'],errors='coerce')\n",
    "data['D.O. (mg/l)']=pd.to_numeric(data['D.O. (mg/l)'],errors='coerce')\n",
    "data['PH']=pd.to_numeric(data['PH'],errors='coerce')\n",
    "data['B.O.D. (mg/l)']=pd.to_numeric(data['B.O.D. (mg/l)'],errors='coerce')\n",
    "data['CONDUCTIVITY (µmhos/cm)']=pd.to_numeric(data['CONDUCTIVITY (µmhos/cm)'],errors='coerce')\n",
    "data['NITRATENAN N+ NITRITENANN (mg/l)']=pd.to_numeric(data['NITRATENAN N+ NITRITENANN (mg/l)'],errors='coerce')\n",
    "data['TOTAL COLIFORM (MPN/100ml)Mean']=pd.to_numeric(data['TOTAL COLIFORM (MPN/100ml)Mean'],errors='coerce')\n",
    "data.dtypes"
   ]
  },
  {
   "cell_type": "code",
   "execution_count": 11,
   "metadata": {
    "_uuid": "c528533407224af3b7dcbc5d395260281aef2777",
    "execution": {
     "iopub.execute_input": "2022-06-14T03:58:59.031703Z",
     "iopub.status.busy": "2022-06-14T03:58:59.031150Z",
     "iopub.status.idle": "2022-06-14T03:58:59.048228Z",
     "shell.execute_reply": "2022-06-14T03:58:59.047581Z",
     "shell.execute_reply.started": "2022-06-14T03:58:59.031640Z"
    }
   },
   "outputs": [
    {
     "data": {
      "text/plain": [
       "dtype('float64')"
      ]
     },
     "execution_count": 11,
     "metadata": {},
     "output_type": "execute_result"
    }
   ],
   "source": [
    "#initialization\n",
    "start=2\n",
    "end=1779\n",
    "station=data.iloc [start:end ,0]\n",
    "location=data.iloc [start:end ,1]\n",
    "state=data.iloc [start:end ,2]\n",
    "do= data.iloc [start:end ,4].astype(np.float64)\n",
    "value=0\n",
    "ph = data.iloc[ start:end,5]  \n",
    "co = data.iloc [start:end ,6].astype(np.float64)   \n",
    "  \n",
    "year=data.iloc[start:end,11]\n",
    "tc=data.iloc [2:end ,10].astype(np.float64)\n",
    "\n",
    "\n",
    "bod = data.iloc [start:end ,7].astype(np.float64)\n",
    "na= data.iloc [start:end ,8].astype(np.float64)\n",
    "na.dtype"
   ]
  },
  {
   "cell_type": "code",
   "execution_count": 12,
   "metadata": {
    "_uuid": "f6fea6a3aaa01927b6b51da1b8362aa9db158ecc",
    "execution": {
     "iopub.execute_input": "2022-06-14T03:58:59.049571Z",
     "iopub.status.busy": "2022-06-14T03:58:59.049199Z",
     "iopub.status.idle": "2022-06-14T03:58:59.087096Z",
     "shell.execute_reply": "2022-06-14T03:58:59.086155Z",
     "shell.execute_reply.started": "2022-06-14T03:58:59.049524Z"
    }
   },
   "outputs": [
    {
     "data": {
      "text/html": [
       "<div>\n",
       "<style scoped>\n",
       "    .dataframe tbody tr th:only-of-type {\n",
       "        vertical-align: middle;\n",
       "    }\n",
       "\n",
       "    .dataframe tbody tr th {\n",
       "        vertical-align: top;\n",
       "    }\n",
       "\n",
       "    .dataframe thead th {\n",
       "        text-align: right;\n",
       "    }\n",
       "</style>\n",
       "<table border=\"1\" class=\"dataframe\">\n",
       "  <thead>\n",
       "    <tr style=\"text-align: right;\">\n",
       "      <th></th>\n",
       "      <th>STATION CODE</th>\n",
       "      <th>LOCATIONS</th>\n",
       "      <th>STATE</th>\n",
       "      <th>Temp</th>\n",
       "      <th>D.O. (mg/l)</th>\n",
       "      <th>PH</th>\n",
       "      <th>CONDUCTIVITY (µmhos/cm)</th>\n",
       "      <th>B.O.D. (mg/l)</th>\n",
       "      <th>NITRATENAN N+ NITRITENANN (mg/l)</th>\n",
       "      <th>FECAL COLIFORM (MPN/100ml)</th>\n",
       "      <th>TOTAL COLIFORM (MPN/100ml)Mean</th>\n",
       "      <th>year</th>\n",
       "    </tr>\n",
       "  </thead>\n",
       "  <tbody>\n",
       "    <tr>\n",
       "      <th>0</th>\n",
       "      <td>1393</td>\n",
       "      <td>DAMANGANGA AT D/S OF MADHUBAN, DAMAN</td>\n",
       "      <td>DAMAN &amp; DIU</td>\n",
       "      <td>30.6</td>\n",
       "      <td>6.7</td>\n",
       "      <td>7.5</td>\n",
       "      <td>203.0</td>\n",
       "      <td>NaN</td>\n",
       "      <td>0.1</td>\n",
       "      <td>11</td>\n",
       "      <td>27.0</td>\n",
       "      <td>2014</td>\n",
       "    </tr>\n",
       "    <tr>\n",
       "      <th>1</th>\n",
       "      <td>1399</td>\n",
       "      <td>ZUARI AT D/S OF PT. WHERE KUMBARJRIA CANAL JOI...</td>\n",
       "      <td>GOA</td>\n",
       "      <td>29.8</td>\n",
       "      <td>5.7</td>\n",
       "      <td>7.2</td>\n",
       "      <td>189.0</td>\n",
       "      <td>2.0</td>\n",
       "      <td>0.2</td>\n",
       "      <td>4953</td>\n",
       "      <td>8391.0</td>\n",
       "      <td>2014</td>\n",
       "    </tr>\n",
       "    <tr>\n",
       "      <th>2</th>\n",
       "      <td>1475</td>\n",
       "      <td>ZUARI AT PANCHAWADI</td>\n",
       "      <td>GOA</td>\n",
       "      <td>29.5</td>\n",
       "      <td>6.3</td>\n",
       "      <td>6.9</td>\n",
       "      <td>179.0</td>\n",
       "      <td>1.7</td>\n",
       "      <td>0.1</td>\n",
       "      <td>3243</td>\n",
       "      <td>5330.0</td>\n",
       "      <td>2014</td>\n",
       "    </tr>\n",
       "    <tr>\n",
       "      <th>3</th>\n",
       "      <td>3181</td>\n",
       "      <td>RIVER ZUARI AT BORIM BRIDGE</td>\n",
       "      <td>GOA</td>\n",
       "      <td>29.7</td>\n",
       "      <td>5.8</td>\n",
       "      <td>6.9</td>\n",
       "      <td>64.0</td>\n",
       "      <td>3.8</td>\n",
       "      <td>0.5</td>\n",
       "      <td>5382</td>\n",
       "      <td>8443.0</td>\n",
       "      <td>2014</td>\n",
       "    </tr>\n",
       "    <tr>\n",
       "      <th>4</th>\n",
       "      <td>3182</td>\n",
       "      <td>RIVER ZUARI AT MARCAIM JETTY</td>\n",
       "      <td>GOA</td>\n",
       "      <td>29.5</td>\n",
       "      <td>5.8</td>\n",
       "      <td>7.3</td>\n",
       "      <td>83.0</td>\n",
       "      <td>1.9</td>\n",
       "      <td>0.4</td>\n",
       "      <td>3428</td>\n",
       "      <td>5500.0</td>\n",
       "      <td>2014</td>\n",
       "    </tr>\n",
       "  </tbody>\n",
       "</table>\n",
       "</div>"
      ],
      "text/plain": [
       "  STATION CODE                                          LOCATIONS  \\\n",
       "0         1393               DAMANGANGA AT D/S OF MADHUBAN, DAMAN   \n",
       "1         1399  ZUARI AT D/S OF PT. WHERE KUMBARJRIA CANAL JOI...   \n",
       "2         1475                                ZUARI AT PANCHAWADI   \n",
       "3         3181                        RIVER ZUARI AT BORIM BRIDGE   \n",
       "4         3182                       RIVER ZUARI AT MARCAIM JETTY   \n",
       "\n",
       "         STATE  Temp  D.O. (mg/l)   PH  CONDUCTIVITY (µmhos/cm)  \\\n",
       "0  DAMAN & DIU  30.6          6.7  7.5                    203.0   \n",
       "1          GOA  29.8          5.7  7.2                    189.0   \n",
       "2          GOA  29.5          6.3  6.9                    179.0   \n",
       "3          GOA  29.7          5.8  6.9                     64.0   \n",
       "4          GOA  29.5          5.8  7.3                     83.0   \n",
       "\n",
       "   B.O.D. (mg/l)  NITRATENAN N+ NITRITENANN (mg/l) FECAL COLIFORM (MPN/100ml)  \\\n",
       "0            NaN                               0.1                         11   \n",
       "1            2.0                               0.2                       4953   \n",
       "2            1.7                               0.1                       3243   \n",
       "3            3.8                               0.5                       5382   \n",
       "4            1.9                               0.4                       3428   \n",
       "\n",
       "   TOTAL COLIFORM (MPN/100ml)Mean  year  \n",
       "0                            27.0  2014  \n",
       "1                          8391.0  2014  \n",
       "2                          5330.0  2014  \n",
       "3                          8443.0  2014  \n",
       "4                          5500.0  2014  "
      ]
     },
     "execution_count": 12,
     "metadata": {},
     "output_type": "execute_result"
    }
   ],
   "source": [
    "data.head()"
   ]
  },
  {
   "cell_type": "code",
   "execution_count": 13,
   "metadata": {
    "_uuid": "e13694edb7e69821a3a1bc790644585aabd6f3cf",
    "execution": {
     "iopub.execute_input": "2022-06-14T03:58:59.088518Z",
     "iopub.status.busy": "2022-06-14T03:58:59.088079Z",
     "iopub.status.idle": "2022-06-14T03:58:59.096771Z",
     "shell.execute_reply": "2022-06-14T03:58:59.095711Z",
     "shell.execute_reply.started": "2022-06-14T03:58:59.088445Z"
    }
   },
   "outputs": [],
   "source": [
    "data=pd.concat([station,location,state,do,ph,co,bod,na,tc,year],axis=1)\n",
    "data. columns = ['station','location','state','do','ph','co','bod','na','tc','year']"
   ]
  },
  {
   "cell_type": "code",
   "execution_count": 14,
   "metadata": {
    "_uuid": "c2821fe55fdcf56135b5d6a20d5382fc9d006411",
    "execution": {
     "iopub.execute_input": "2022-06-14T03:58:59.098240Z",
     "iopub.status.busy": "2022-06-14T03:58:59.097982Z",
     "iopub.status.idle": "2022-06-14T03:58:59.112073Z",
     "shell.execute_reply": "2022-06-14T03:58:59.111111Z",
     "shell.execute_reply.started": "2022-06-14T03:58:59.098198Z"
    }
   },
   "outputs": [],
   "source": [
    "#calulation of Ph\n",
    "data['npH']=data.ph.apply(lambda x: (100 if (8.5>=x>=7)  \n",
    "                                 else(80 if  (8.6>=x>=8.5) or (6.9>=x>=6.8) \n",
    "                                      else(60 if (8.8>=x>=8.6) or (6.8>=x>=6.7) \n",
    "                                          else(40 if (9>=x>=8.8) or (6.7>=x>=6.5)\n",
    "                                              else 0)))))\n"
   ]
  },
  {
   "cell_type": "code",
   "execution_count": 15,
   "metadata": {
    "_uuid": "522c5937fb8199e5ba9600011856b7abe7c41dfd",
    "execution": {
     "iopub.execute_input": "2022-06-14T03:58:59.116522Z",
     "iopub.status.busy": "2022-06-14T03:58:59.116131Z",
     "iopub.status.idle": "2022-06-14T03:58:59.130097Z",
     "shell.execute_reply": "2022-06-14T03:58:59.129251Z",
     "shell.execute_reply.started": "2022-06-14T03:58:59.116461Z"
    }
   },
   "outputs": [],
   "source": [
    "#calculation of dissolved oxygen\n",
    "data['ndo']=data.do.apply(lambda x:(100 if (x>=6)  \n",
    "                                 else(80 if  (6>=x>=5.1) \n",
    "                                      else(60 if (5>=x>=4.1)\n",
    "                                          else(40 if (4>=x>=3) \n",
    "                                              else 0)))))"
   ]
  },
  {
   "cell_type": "code",
   "execution_count": 16,
   "metadata": {
    "_uuid": "0e443b323f7ea397bb3e63a8eb1b0f243c247c82",
    "execution": {
     "iopub.execute_input": "2022-06-14T03:58:59.132757Z",
     "iopub.status.busy": "2022-06-14T03:58:59.132315Z",
     "iopub.status.idle": "2022-06-14T03:58:59.144653Z",
     "shell.execute_reply": "2022-06-14T03:58:59.143864Z",
     "shell.execute_reply.started": "2022-06-14T03:58:59.132713Z"
    }
   },
   "outputs": [],
   "source": [
    "#calculation of total coliform\n",
    "data['nco']=data.tc.apply(lambda x:(100 if (5>=x>=0)  \n",
    "                                 else(80 if  (50>=x>=5) \n",
    "                                      else(60 if (500>=x>=50)\n",
    "                                          else(40 if (10000>=x>=500) \n",
    "                                              else 0)))))"
   ]
  },
  {
   "cell_type": "code",
   "execution_count": 17,
   "metadata": {
    "_uuid": "f421697d9e925a02e8d8c919546ccddc306d6619",
    "execution": {
     "iopub.execute_input": "2022-06-14T03:58:59.146048Z",
     "iopub.status.busy": "2022-06-14T03:58:59.145573Z",
     "iopub.status.idle": "2022-06-14T03:58:59.157290Z",
     "shell.execute_reply": "2022-06-14T03:58:59.156453Z",
     "shell.execute_reply.started": "2022-06-14T03:58:59.145990Z"
    }
   },
   "outputs": [],
   "source": [
    "#calc of B.D.O\n",
    "data['nbdo']=data.bod.apply(lambda x:(100 if (3>=x>=0)  \n",
    "                                 else(80 if  (6>=x>=3) \n",
    "                                      else(60 if (80>=x>=6)\n",
    "                                          else(40 if (125>=x>=80) \n",
    "                                              else 0)))))"
   ]
  },
  {
   "cell_type": "code",
   "execution_count": 18,
   "metadata": {
    "_uuid": "432790c8c67937138427c395c4706da173911e16",
    "execution": {
     "iopub.execute_input": "2022-06-14T03:58:59.158724Z",
     "iopub.status.busy": "2022-06-14T03:58:59.158276Z",
     "iopub.status.idle": "2022-06-14T03:58:59.173034Z",
     "shell.execute_reply": "2022-06-14T03:58:59.171917Z",
     "shell.execute_reply.started": "2022-06-14T03:58:59.158670Z"
    }
   },
   "outputs": [],
   "source": [
    "#calculation of electrical conductivity\n",
    "data['nec']=data.co.apply(lambda x:(100 if (75>=x>=0)  \n",
    "                                 else(80 if  (150>=x>=75) \n",
    "                                      else(60 if (225>=x>=150)\n",
    "                                          else(40 if (300>=x>=225) \n",
    "                                              else 0)))))\n"
   ]
  },
  {
   "cell_type": "code",
   "execution_count": 19,
   "metadata": {
    "_uuid": "96bb369fe0bfe6ed046e93f1c33855125b394ab4",
    "execution": {
     "iopub.execute_input": "2022-06-14T03:58:59.174550Z",
     "iopub.status.busy": "2022-06-14T03:58:59.174160Z",
     "iopub.status.idle": "2022-06-14T03:58:59.191397Z",
     "shell.execute_reply": "2022-06-14T03:58:59.190517Z",
     "shell.execute_reply.started": "2022-06-14T03:58:59.174509Z"
    }
   },
   "outputs": [
    {
     "data": {
      "text/plain": [
       "station      object\n",
       "location     object\n",
       "state        object\n",
       "do          float64\n",
       "ph          float64\n",
       "co          float64\n",
       "bod         float64\n",
       "na          float64\n",
       "tc          float64\n",
       "year          int64\n",
       "npH           int64\n",
       "ndo           int64\n",
       "nco           int64\n",
       "nbdo          int64\n",
       "nec           int64\n",
       "nna           int64\n",
       "dtype: object"
      ]
     },
     "execution_count": 19,
     "metadata": {},
     "output_type": "execute_result"
    }
   ],
   "source": [
    "#Calulation of nitrate\n",
    "data['nna']=data.na.apply(lambda x:(100 if (20>=x>=0)  \n",
    "                                 else(80 if  (50>=x>=20) \n",
    "                                      else(60 if (100>=x>=50)\n",
    "                                          else(40 if (200>=x>=100) \n",
    "                                              else 0)))))\n",
    "\n",
    "data.head()\n",
    "data.dtypes"
   ]
  },
  {
   "cell_type": "code",
   "execution_count": 20,
   "metadata": {
    "_uuid": "0c1462f89a3526c780053de8f891ac806efcb51d",
    "execution": {
     "iopub.execute_input": "2022-06-14T03:58:59.192698Z",
     "iopub.status.busy": "2022-06-14T03:58:59.192295Z",
     "iopub.status.idle": "2022-06-14T03:58:59.329978Z",
     "shell.execute_reply": "2022-06-14T03:58:59.328918Z",
     "shell.execute_reply.started": "2022-06-14T03:58:59.192502Z"
    }
   },
   "outputs": [
    {
     "data": {
      "text/html": [
       "<div>\n",
       "<style scoped>\n",
       "    .dataframe tbody tr th:only-of-type {\n",
       "        vertical-align: middle;\n",
       "    }\n",
       "\n",
       "    .dataframe tbody tr th {\n",
       "        vertical-align: top;\n",
       "    }\n",
       "\n",
       "    .dataframe thead th {\n",
       "        text-align: right;\n",
       "    }\n",
       "</style>\n",
       "<table border=\"1\" class=\"dataframe\">\n",
       "  <thead>\n",
       "    <tr style=\"text-align: right;\">\n",
       "      <th></th>\n",
       "      <th>station</th>\n",
       "      <th>location</th>\n",
       "      <th>state</th>\n",
       "      <th>do</th>\n",
       "      <th>ph</th>\n",
       "      <th>co</th>\n",
       "      <th>bod</th>\n",
       "      <th>na</th>\n",
       "      <th>tc</th>\n",
       "      <th>year</th>\n",
       "      <th>...</th>\n",
       "      <th>nbdo</th>\n",
       "      <th>nec</th>\n",
       "      <th>nna</th>\n",
       "      <th>wph</th>\n",
       "      <th>wdo</th>\n",
       "      <th>wbdo</th>\n",
       "      <th>wec</th>\n",
       "      <th>wna</th>\n",
       "      <th>wco</th>\n",
       "      <th>wqi</th>\n",
       "    </tr>\n",
       "  </thead>\n",
       "  <tbody>\n",
       "    <tr>\n",
       "      <th>2</th>\n",
       "      <td>1475</td>\n",
       "      <td>ZUARI AT PANCHAWADI</td>\n",
       "      <td>GOA</td>\n",
       "      <td>6.300</td>\n",
       "      <td>6.900</td>\n",
       "      <td>179.0</td>\n",
       "      <td>1.7</td>\n",
       "      <td>0.1</td>\n",
       "      <td>5330.0</td>\n",
       "      <td>2014</td>\n",
       "      <td>...</td>\n",
       "      <td>100</td>\n",
       "      <td>60</td>\n",
       "      <td>100</td>\n",
       "      <td>13.2</td>\n",
       "      <td>28.10</td>\n",
       "      <td>23.40</td>\n",
       "      <td>0.54</td>\n",
       "      <td>2.8</td>\n",
       "      <td>11.24</td>\n",
       "      <td>79.28</td>\n",
       "    </tr>\n",
       "    <tr>\n",
       "      <th>3</th>\n",
       "      <td>3181</td>\n",
       "      <td>RIVER ZUARI AT BORIM BRIDGE</td>\n",
       "      <td>GOA</td>\n",
       "      <td>5.800</td>\n",
       "      <td>6.900</td>\n",
       "      <td>64.0</td>\n",
       "      <td>3.8</td>\n",
       "      <td>0.5</td>\n",
       "      <td>8443.0</td>\n",
       "      <td>2014</td>\n",
       "      <td>...</td>\n",
       "      <td>80</td>\n",
       "      <td>100</td>\n",
       "      <td>100</td>\n",
       "      <td>13.2</td>\n",
       "      <td>22.48</td>\n",
       "      <td>18.72</td>\n",
       "      <td>0.90</td>\n",
       "      <td>2.8</td>\n",
       "      <td>11.24</td>\n",
       "      <td>69.34</td>\n",
       "    </tr>\n",
       "    <tr>\n",
       "      <th>4</th>\n",
       "      <td>3182</td>\n",
       "      <td>RIVER ZUARI AT MARCAIM JETTY</td>\n",
       "      <td>GOA</td>\n",
       "      <td>5.800</td>\n",
       "      <td>7.300</td>\n",
       "      <td>83.0</td>\n",
       "      <td>1.9</td>\n",
       "      <td>0.4</td>\n",
       "      <td>5500.0</td>\n",
       "      <td>2014</td>\n",
       "      <td>...</td>\n",
       "      <td>100</td>\n",
       "      <td>80</td>\n",
       "      <td>100</td>\n",
       "      <td>16.5</td>\n",
       "      <td>22.48</td>\n",
       "      <td>23.40</td>\n",
       "      <td>0.72</td>\n",
       "      <td>2.8</td>\n",
       "      <td>11.24</td>\n",
       "      <td>77.14</td>\n",
       "    </tr>\n",
       "    <tr>\n",
       "      <th>5</th>\n",
       "      <td>1400</td>\n",
       "      <td>MANDOVI AT NEGHBOURHOOD OF PANAJI, GOA</td>\n",
       "      <td>GOA</td>\n",
       "      <td>5.500</td>\n",
       "      <td>7.400</td>\n",
       "      <td>81.0</td>\n",
       "      <td>1.5</td>\n",
       "      <td>0.1</td>\n",
       "      <td>4049.0</td>\n",
       "      <td>2014</td>\n",
       "      <td>...</td>\n",
       "      <td>100</td>\n",
       "      <td>80</td>\n",
       "      <td>100</td>\n",
       "      <td>16.5</td>\n",
       "      <td>22.48</td>\n",
       "      <td>23.40</td>\n",
       "      <td>0.72</td>\n",
       "      <td>2.8</td>\n",
       "      <td>11.24</td>\n",
       "      <td>77.14</td>\n",
       "    </tr>\n",
       "    <tr>\n",
       "      <th>6</th>\n",
       "      <td>1476</td>\n",
       "      <td>MANDOVI AT TONCA, MARCELA, GOA</td>\n",
       "      <td>GOA</td>\n",
       "      <td>6.100</td>\n",
       "      <td>6.700</td>\n",
       "      <td>308.0</td>\n",
       "      <td>1.4</td>\n",
       "      <td>0.3</td>\n",
       "      <td>5672.0</td>\n",
       "      <td>2014</td>\n",
       "      <td>...</td>\n",
       "      <td>100</td>\n",
       "      <td>0</td>\n",
       "      <td>100</td>\n",
       "      <td>9.9</td>\n",
       "      <td>28.10</td>\n",
       "      <td>23.40</td>\n",
       "      <td>0.00</td>\n",
       "      <td>2.8</td>\n",
       "      <td>11.24</td>\n",
       "      <td>75.44</td>\n",
       "    </tr>\n",
       "    <tr>\n",
       "      <th>...</th>\n",
       "      <td>...</td>\n",
       "      <td>...</td>\n",
       "      <td>...</td>\n",
       "      <td>...</td>\n",
       "      <td>...</td>\n",
       "      <td>...</td>\n",
       "      <td>...</td>\n",
       "      <td>...</td>\n",
       "      <td>...</td>\n",
       "      <td>...</td>\n",
       "      <td>...</td>\n",
       "      <td>...</td>\n",
       "      <td>...</td>\n",
       "      <td>...</td>\n",
       "      <td>...</td>\n",
       "      <td>...</td>\n",
       "      <td>...</td>\n",
       "      <td>...</td>\n",
       "      <td>...</td>\n",
       "      <td>...</td>\n",
       "      <td>...</td>\n",
       "    </tr>\n",
       "    <tr>\n",
       "      <th>1774</th>\n",
       "      <td>1428</td>\n",
       "      <td>KHARKHLA NEAR SUTNGA KHLIERIAT,JAINTIA HILLS D...</td>\n",
       "      <td>NAN</td>\n",
       "      <td>4.600</td>\n",
       "      <td>3.000</td>\n",
       "      <td>350.0</td>\n",
       "      <td>6.2</td>\n",
       "      <td>2.2</td>\n",
       "      <td>49.0</td>\n",
       "      <td>2006</td>\n",
       "      <td>...</td>\n",
       "      <td>60</td>\n",
       "      <td>0</td>\n",
       "      <td>100</td>\n",
       "      <td>0.0</td>\n",
       "      <td>16.86</td>\n",
       "      <td>14.04</td>\n",
       "      <td>0.00</td>\n",
       "      <td>2.8</td>\n",
       "      <td>22.48</td>\n",
       "      <td>56.18</td>\n",
       "    </tr>\n",
       "    <tr>\n",
       "      <th>1775</th>\n",
       "      <td>1631</td>\n",
       "      <td>MYNTDU RIVER JOWAI, MEGHALAYA</td>\n",
       "      <td>NAN</td>\n",
       "      <td>8.800</td>\n",
       "      <td>7.000</td>\n",
       "      <td>172.0</td>\n",
       "      <td>1.6</td>\n",
       "      <td>5.0</td>\n",
       "      <td>2800.0</td>\n",
       "      <td>2006</td>\n",
       "      <td>...</td>\n",
       "      <td>100</td>\n",
       "      <td>60</td>\n",
       "      <td>100</td>\n",
       "      <td>16.5</td>\n",
       "      <td>28.10</td>\n",
       "      <td>23.40</td>\n",
       "      <td>0.54</td>\n",
       "      <td>2.8</td>\n",
       "      <td>11.24</td>\n",
       "      <td>82.58</td>\n",
       "    </tr>\n",
       "    <tr>\n",
       "      <th>1776</th>\n",
       "      <td>1632</td>\n",
       "      <td>GANOL RIVER TURA, MEGHALAYA</td>\n",
       "      <td>NAN</td>\n",
       "      <td>10.000</td>\n",
       "      <td>7.100</td>\n",
       "      <td>150.0</td>\n",
       "      <td>1.0</td>\n",
       "      <td>4.0</td>\n",
       "      <td>350.0</td>\n",
       "      <td>2006</td>\n",
       "      <td>...</td>\n",
       "      <td>100</td>\n",
       "      <td>80</td>\n",
       "      <td>100</td>\n",
       "      <td>16.5</td>\n",
       "      <td>28.10</td>\n",
       "      <td>23.40</td>\n",
       "      <td>0.72</td>\n",
       "      <td>2.8</td>\n",
       "      <td>16.86</td>\n",
       "      <td>88.38</td>\n",
       "    </tr>\n",
       "    <tr>\n",
       "      <th>1777</th>\n",
       "      <td>1633</td>\n",
       "      <td>SIMSANG RIVER WILLIAMNAGAR, MEGHALAYA</td>\n",
       "      <td>NAN</td>\n",
       "      <td>9.000</td>\n",
       "      <td>7.300</td>\n",
       "      <td>158.0</td>\n",
       "      <td>1.8</td>\n",
       "      <td>7.2</td>\n",
       "      <td>280.0</td>\n",
       "      <td>2006</td>\n",
       "      <td>...</td>\n",
       "      <td>100</td>\n",
       "      <td>60</td>\n",
       "      <td>100</td>\n",
       "      <td>16.5</td>\n",
       "      <td>28.10</td>\n",
       "      <td>23.40</td>\n",
       "      <td>0.54</td>\n",
       "      <td>2.8</td>\n",
       "      <td>16.86</td>\n",
       "      <td>88.20</td>\n",
       "    </tr>\n",
       "    <tr>\n",
       "      <th>1778</th>\n",
       "      <td>2050</td>\n",
       "      <td>TLAWNG UPSTREAM AIZAWL</td>\n",
       "      <td>NAN</td>\n",
       "      <td>7.767</td>\n",
       "      <td>7.543</td>\n",
       "      <td>NaN</td>\n",
       "      <td>0.5</td>\n",
       "      <td>NaN</td>\n",
       "      <td>NaN</td>\n",
       "      <td>2006</td>\n",
       "      <td>...</td>\n",
       "      <td>100</td>\n",
       "      <td>0</td>\n",
       "      <td>0</td>\n",
       "      <td>16.5</td>\n",
       "      <td>28.10</td>\n",
       "      <td>23.40</td>\n",
       "      <td>0.00</td>\n",
       "      <td>0.0</td>\n",
       "      <td>0.00</td>\n",
       "      <td>68.00</td>\n",
       "    </tr>\n",
       "  </tbody>\n",
       "</table>\n",
       "<p>1777 rows × 23 columns</p>\n",
       "</div>"
      ],
      "text/plain": [
       "     station                                           location state      do  \\\n",
       "2       1475                                ZUARI AT PANCHAWADI   GOA   6.300   \n",
       "3       3181                        RIVER ZUARI AT BORIM BRIDGE   GOA   5.800   \n",
       "4       3182                       RIVER ZUARI AT MARCAIM JETTY   GOA   5.800   \n",
       "5       1400             MANDOVI AT NEGHBOURHOOD OF PANAJI, GOA   GOA   5.500   \n",
       "6       1476                     MANDOVI AT TONCA, MARCELA, GOA   GOA   6.100   \n",
       "...      ...                                                ...   ...     ...   \n",
       "1774    1428  KHARKHLA NEAR SUTNGA KHLIERIAT,JAINTIA HILLS D...   NAN   4.600   \n",
       "1775    1631                      MYNTDU RIVER JOWAI, MEGHALAYA   NAN   8.800   \n",
       "1776    1632                        GANOL RIVER TURA, MEGHALAYA   NAN  10.000   \n",
       "1777    1633              SIMSANG RIVER WILLIAMNAGAR, MEGHALAYA   NAN   9.000   \n",
       "1778    2050                             TLAWNG UPSTREAM AIZAWL   NAN   7.767   \n",
       "\n",
       "         ph     co  bod   na      tc  year  ...  nbdo  nec  nna   wph    wdo  \\\n",
       "2     6.900  179.0  1.7  0.1  5330.0  2014  ...   100   60  100  13.2  28.10   \n",
       "3     6.900   64.0  3.8  0.5  8443.0  2014  ...    80  100  100  13.2  22.48   \n",
       "4     7.300   83.0  1.9  0.4  5500.0  2014  ...   100   80  100  16.5  22.48   \n",
       "5     7.400   81.0  1.5  0.1  4049.0  2014  ...   100   80  100  16.5  22.48   \n",
       "6     6.700  308.0  1.4  0.3  5672.0  2014  ...   100    0  100   9.9  28.10   \n",
       "...     ...    ...  ...  ...     ...   ...  ...   ...  ...  ...   ...    ...   \n",
       "1774  3.000  350.0  6.2  2.2    49.0  2006  ...    60    0  100   0.0  16.86   \n",
       "1775  7.000  172.0  1.6  5.0  2800.0  2006  ...   100   60  100  16.5  28.10   \n",
       "1776  7.100  150.0  1.0  4.0   350.0  2006  ...   100   80  100  16.5  28.10   \n",
       "1777  7.300  158.0  1.8  7.2   280.0  2006  ...   100   60  100  16.5  28.10   \n",
       "1778  7.543    NaN  0.5  NaN     NaN  2006  ...   100    0    0  16.5  28.10   \n",
       "\n",
       "       wbdo   wec  wna    wco    wqi  \n",
       "2     23.40  0.54  2.8  11.24  79.28  \n",
       "3     18.72  0.90  2.8  11.24  69.34  \n",
       "4     23.40  0.72  2.8  11.24  77.14  \n",
       "5     23.40  0.72  2.8  11.24  77.14  \n",
       "6     23.40  0.00  2.8  11.24  75.44  \n",
       "...     ...   ...  ...    ...    ...  \n",
       "1774  14.04  0.00  2.8  22.48  56.18  \n",
       "1775  23.40  0.54  2.8  11.24  82.58  \n",
       "1776  23.40  0.72  2.8  16.86  88.38  \n",
       "1777  23.40  0.54  2.8  16.86  88.20  \n",
       "1778  23.40  0.00  0.0   0.00  68.00  \n",
       "\n",
       "[1777 rows x 23 columns]"
      ]
     },
     "execution_count": 20,
     "metadata": {},
     "output_type": "execute_result"
    }
   ],
   "source": [
    "\n",
    "data['wph']=data.npH * 0.165\n",
    "data['wdo']=data.ndo * 0.281\n",
    "data['wbdo']=data.nbdo * 0.234\n",
    "data['wec']=data.nec* 0.009\n",
    "data['wna']=data.nna * 0.028\n",
    "data['wco']=data.nco * 0.281\n",
    "data['wqi']=data.wph+data.wdo+data.wbdo+data.wec+data.wna+data.wco \n",
    "data"
   ]
  },
  {
   "cell_type": "code",
   "execution_count": 21,
   "metadata": {
    "_uuid": "1d93ce1da4d8a054073820ae573e1735fdbef19d",
    "execution": {
     "iopub.execute_input": "2022-06-14T03:58:59.331579Z",
     "iopub.status.busy": "2022-06-14T03:58:59.331315Z",
     "iopub.status.idle": "2022-06-14T03:58:59.339135Z",
     "shell.execute_reply": "2022-06-14T03:58:59.337979Z",
     "shell.execute_reply.started": "2022-06-14T03:58:59.331534Z"
    }
   },
   "outputs": [],
   "source": [
    "#calculation overall wqi for each year\n",
    "ag=data.groupby('year')['wqi'].mean()"
   ]
  },
  {
   "cell_type": "code",
   "execution_count": 22,
   "metadata": {
    "_uuid": "3c6a6c48311870df8217720ca59c569e105c7606",
    "execution": {
     "iopub.execute_input": "2022-06-14T03:58:59.340981Z",
     "iopub.status.busy": "2022-06-14T03:58:59.340452Z",
     "iopub.status.idle": "2022-06-14T03:58:59.351763Z",
     "shell.execute_reply": "2022-06-14T03:58:59.350755Z",
     "shell.execute_reply.started": "2022-06-14T03:58:59.340921Z"
    }
   },
   "outputs": [
    {
     "data": {
      "text/plain": [
       "year\n",
       "2006    71.308824\n",
       "2007    72.549000\n",
       "2008    72.570943\n",
       "2009    74.085193\n",
       "2010    74.648723\n",
       "Name: wqi, dtype: float64"
      ]
     },
     "execution_count": 22,
     "metadata": {},
     "output_type": "execute_result"
    }
   ],
   "source": [
    "ag.head()"
   ]
  },
  {
   "cell_type": "code",
   "execution_count": 28,
   "metadata": {
    "_uuid": "cc19551971d8211b993ea3ab3fd2f22e5cff2b0d",
    "execution": {
     "iopub.execute_input": "2022-06-14T03:58:59.353651Z",
     "iopub.status.busy": "2022-06-14T03:58:59.352949Z",
     "iopub.status.idle": "2022-06-14T03:58:59.371932Z",
     "shell.execute_reply": "2022-06-14T03:58:59.370891Z",
     "shell.execute_reply.started": "2022-06-14T03:58:59.353607Z"
    }
   },
   "outputs": [
    {
     "data": {
      "text/html": [
       "<div>\n",
       "<style scoped>\n",
       "    .dataframe tbody tr th:only-of-type {\n",
       "        vertical-align: middle;\n",
       "    }\n",
       "\n",
       "    .dataframe tbody tr th {\n",
       "        vertical-align: top;\n",
       "    }\n",
       "\n",
       "    .dataframe thead th {\n",
       "        text-align: right;\n",
       "    }\n",
       "</style>\n",
       "<table border=\"1\" class=\"dataframe\">\n",
       "  <thead>\n",
       "    <tr style=\"text-align: right;\">\n",
       "      <th></th>\n",
       "      <th>year</th>\n",
       "      <th>wqi</th>\n",
       "    </tr>\n",
       "  </thead>\n",
       "  <tbody>\n",
       "    <tr>\n",
       "      <th>0</th>\n",
       "      <td>2006</td>\n",
       "      <td>71.308824</td>\n",
       "    </tr>\n",
       "    <tr>\n",
       "      <th>1</th>\n",
       "      <td>2007</td>\n",
       "      <td>72.549000</td>\n",
       "    </tr>\n",
       "    <tr>\n",
       "      <th>2</th>\n",
       "      <td>2008</td>\n",
       "      <td>72.570943</td>\n",
       "    </tr>\n",
       "    <tr>\n",
       "      <th>3</th>\n",
       "      <td>2009</td>\n",
       "      <td>74.085193</td>\n",
       "    </tr>\n",
       "    <tr>\n",
       "      <th>4</th>\n",
       "      <td>2010</td>\n",
       "      <td>74.648723</td>\n",
       "    </tr>\n",
       "    <tr>\n",
       "      <th>5</th>\n",
       "      <td>2011</td>\n",
       "      <td>75.647013</td>\n",
       "    </tr>\n",
       "    <tr>\n",
       "      <th>6</th>\n",
       "      <td>2012</td>\n",
       "      <td>78.969041</td>\n",
       "    </tr>\n",
       "    <tr>\n",
       "      <th>7</th>\n",
       "      <td>2013</td>\n",
       "      <td>75.009425</td>\n",
       "    </tr>\n",
       "    <tr>\n",
       "      <th>8</th>\n",
       "      <td>2014</td>\n",
       "      <td>76.879588</td>\n",
       "    </tr>\n",
       "  </tbody>\n",
       "</table>\n",
       "</div>"
      ],
      "text/plain": [
       "   year        wqi\n",
       "0  2006  71.308824\n",
       "1  2007  72.549000\n",
       "2  2008  72.570943\n",
       "3  2009  74.085193\n",
       "4  2010  74.648723\n",
       "5  2011  75.647013\n",
       "6  2012  78.969041\n",
       "7  2013  75.009425\n",
       "8  2014  76.879588"
      ]
     },
     "execution_count": 28,
     "metadata": {},
     "output_type": "execute_result"
    }
   ],
   "source": [
    "data=ag.reset_index(level=0,inplace=False)\n",
    "data"
   ]
  },
  {
   "cell_type": "code",
   "execution_count": 31,
   "metadata": {
    "_uuid": "82ccdd01f19e5b85ccae5d818e2c18db2844de16",
    "execution": {
     "iopub.execute_input": "2022-06-14T03:58:59.373814Z",
     "iopub.status.busy": "2022-06-14T03:58:59.373254Z",
     "iopub.status.idle": "2022-06-14T03:58:59.968492Z",
     "shell.execute_reply": "2022-06-14T03:58:59.967853Z",
     "shell.execute_reply.started": "2022-06-14T03:58:59.373732Z"
    }
   },
   "outputs": [
    {
     "name": "stderr",
     "output_type": "stream",
     "text": [
      "C:\\Users\\hp\\AppData\\Local\\Temp\\ipykernel_8948\\2557461385.py:12: MatplotlibDeprecationWarning: Axes3D(fig) adding itself to the figure is deprecated since 3.4. Pass the keyword argument auto_add_to_figure=False and use fig.add_axes(ax) to suppress this warning. The default value of auto_add_to_figure will change to False in mpl3.5 and True values will no longer work in 3.6.  This is consistent with other Axes classes.\n",
      "  ax = Axes3D(fig)\n"
     ]
    },
    {
     "data": {
      "image/png": "[encoded data removed]",
      "text/plain": [
       "<Figure size 432x288 with 1 Axes>"
      ]
     },
     "metadata": {
      "needs_background": "light"
     },
     "output_type": "display_data"
    },
    {
     "data": {
      "text/html": [
       "<div>\n",
       "<style scoped>\n",
       "    .dataframe tbody tr th:only-of-type {\n",
       "        vertical-align: middle;\n",
       "    }\n",
       "\n",
       "    .dataframe tbody tr th {\n",
       "        vertical-align: top;\n",
       "    }\n",
       "\n",
       "    .dataframe thead th {\n",
       "        text-align: right;\n",
       "    }\n",
       "</style>\n",
       "<table border=\"1\" class=\"dataframe\">\n",
       "  <thead>\n",
       "    <tr style=\"text-align: right;\">\n",
       "      <th></th>\n",
       "      <th>year</th>\n",
       "      <th>wqi</th>\n",
       "    </tr>\n",
       "  </thead>\n",
       "  <tbody>\n",
       "    <tr>\n",
       "      <th>0</th>\n",
       "      <td>2006</td>\n",
       "      <td>71.308824</td>\n",
       "    </tr>\n",
       "    <tr>\n",
       "      <th>1</th>\n",
       "      <td>2007</td>\n",
       "      <td>72.549000</td>\n",
       "    </tr>\n",
       "    <tr>\n",
       "      <th>2</th>\n",
       "      <td>2008</td>\n",
       "      <td>72.570943</td>\n",
       "    </tr>\n",
       "    <tr>\n",
       "      <th>3</th>\n",
       "      <td>2009</td>\n",
       "      <td>74.085193</td>\n",
       "    </tr>\n",
       "    <tr>\n",
       "      <th>4</th>\n",
       "      <td>2010</td>\n",
       "      <td>74.648723</td>\n",
       "    </tr>\n",
       "    <tr>\n",
       "      <th>5</th>\n",
       "      <td>2011</td>\n",
       "      <td>75.647013</td>\n",
       "    </tr>\n",
       "    <tr>\n",
       "      <th>6</th>\n",
       "      <td>2012</td>\n",
       "      <td>78.969041</td>\n",
       "    </tr>\n",
       "    <tr>\n",
       "      <th>7</th>\n",
       "      <td>2013</td>\n",
       "      <td>75.009425</td>\n",
       "    </tr>\n",
       "    <tr>\n",
       "      <th>8</th>\n",
       "      <td>2014</td>\n",
       "      <td>76.879588</td>\n",
       "    </tr>\n",
       "  </tbody>\n",
       "</table>\n",
       "</div>"
      ],
      "text/plain": [
       "   year        wqi\n",
       "0  2006  71.308824\n",
       "1  2007  72.549000\n",
       "2  2008  72.570943\n",
       "3  2009  74.085193\n",
       "4  2010  74.648723\n",
       "5  2011  75.647013\n",
       "6  2012  78.969041\n",
       "7  2013  75.009425\n",
       "8  2014  76.879588"
      ]
     },
     "execution_count": 31,
     "metadata": {},
     "output_type": "execute_result"
    }
   ],
   "source": [
    "#visualizing the filttered data\n",
    "\n",
    "year=data['year'].values\n",
    "AQI=data['wqi'].values\n",
    "data['wqi']=pd.to_numeric(data['wqi'],errors='coerce')\n",
    "data['year']=pd.to_numeric(data['year'],errors='coerce')\n",
    "\n",
    "import matplotlib.pyplot as plt\n",
    "plt.rcParams['figure.figsize'] = (20.0, 10.0)\n",
    "from mpl_toolkits.mplot3d import Axes3D\n",
    "fig = plt.figure()\n",
    "ax = Axes3D(fig)\n",
    "ax.scatter(year,AQI, color='red')\n",
    "plt.show()\n",
    "data"
   ]
  },
  {
   "cell_type": "code",
   "execution_count": 32,
   "metadata": {
    "_uuid": "779ee6c0a1d70f25ddae00a9882be7ef4574380d",
    "execution": {
     "iopub.execute_input": "2022-06-14T03:58:59.969886Z",
     "iopub.status.busy": "2022-06-14T03:58:59.969467Z",
     "iopub.status.idle": "2022-06-14T03:58:59.982993Z",
     "shell.execute_reply": "2022-06-14T03:58:59.981643Z",
     "shell.execute_reply.started": "2022-06-14T03:58:59.969838Z"
    }
   },
   "outputs": [
    {
     "data": {
      "text/html": [
       "<div>\n",
       "<style scoped>\n",
       "    .dataframe tbody tr th:only-of-type {\n",
       "        vertical-align: middle;\n",
       "    }\n",
       "\n",
       "    .dataframe tbody tr th {\n",
       "        vertical-align: top;\n",
       "    }\n",
       "\n",
       "    .dataframe thead th {\n",
       "        text-align: right;\n",
       "    }\n",
       "</style>\n",
       "<table border=\"1\" class=\"dataframe\">\n",
       "  <thead>\n",
       "    <tr style=\"text-align: right;\">\n",
       "      <th></th>\n",
       "      <th>year</th>\n",
       "      <th>wqi</th>\n",
       "    </tr>\n",
       "  </thead>\n",
       "  <tbody>\n",
       "    <tr>\n",
       "      <th>0</th>\n",
       "      <td>2006</td>\n",
       "      <td>71.308824</td>\n",
       "    </tr>\n",
       "    <tr>\n",
       "      <th>1</th>\n",
       "      <td>2007</td>\n",
       "      <td>72.549000</td>\n",
       "    </tr>\n",
       "    <tr>\n",
       "      <th>2</th>\n",
       "      <td>2008</td>\n",
       "      <td>72.570943</td>\n",
       "    </tr>\n",
       "    <tr>\n",
       "      <th>3</th>\n",
       "      <td>2009</td>\n",
       "      <td>74.085193</td>\n",
       "    </tr>\n",
       "    <tr>\n",
       "      <th>4</th>\n",
       "      <td>2010</td>\n",
       "      <td>74.648723</td>\n",
       "    </tr>\n",
       "  </tbody>\n",
       "</table>\n",
       "</div>"
      ],
      "text/plain": [
       "   year        wqi\n",
       "0  2006  71.308824\n",
       "1  2007  72.549000\n",
       "2  2008  72.570943\n",
       "3  2009  74.085193\n",
       "4  2010  74.648723"
      ]
     },
     "execution_count": 32,
     "metadata": {},
     "output_type": "execute_result"
    }
   ],
   "source": [
    "data = data[np.isfinite(data['wqi'])]\n",
    "data.head()"
   ]
  },
  {
   "cell_type": "code",
   "execution_count": 36,
   "metadata": {
    "_uuid": "84dafc968c50b1c050de74a71d73aa5f0e6c04b5",
    "execution": {
     "iopub.execute_input": "2022-06-14T03:58:59.984693Z",
     "iopub.status.busy": "2022-06-14T03:58:59.984025Z",
     "iopub.status.idle": "2022-06-14T03:59:00.466033Z",
     "shell.execute_reply": "2022-06-14T03:59:00.465109Z",
     "shell.execute_reply.started": "2022-06-14T03:58:59.984622Z"
    }
   },
   "outputs": [
    {
     "data": {
      "image/png": "[encoded data removed]",
      "text/plain": [
       "<Figure size 432x288 with 1 Axes>"
      ]
     },
     "metadata": {
      "needs_background": "light"
     },
     "output_type": "display_data"
    }
   ],
   "source": [
    "#scatter plot of data points\n",
    "cols =['year']\n",
    "y = data['wqi']\n",
    "x=data[cols]\n",
    "\n",
    "plt.scatter(x,y)\n",
    "plt.show()"
   ]
  },
  {
   "cell_type": "code",
   "execution_count": 37,
   "metadata": {
    "_uuid": "6cc522e2e2dbc00770c03ee80c845b05e9a672af",
    "execution": {
     "iopub.execute_input": "2022-06-14T03:59:00.467286Z",
     "iopub.status.busy": "2022-06-14T03:59:00.467012Z",
     "iopub.status.idle": "2022-06-14T03:59:00.826187Z",
     "shell.execute_reply": "2022-06-14T03:59:00.825150Z",
     "shell.execute_reply.started": "2022-06-14T03:59:00.467238Z"
    }
   },
   "outputs": [
    {
     "data": {
      "image/png": "[encoded data removed]",
      "text/plain": [
       "<Figure size 1080x432 with 1 Axes>"
      ]
     },
     "metadata": {
      "needs_background": "light"
     },
     "output_type": "display_data"
    }
   ],
   "source": [
    "import matplotlib.pyplot as plt\n",
    "data=data.set_index('year')\n",
    "data.plot(figsize=(15,6))\n",
    "plt.show()"
   ]
  },
  {
   "cell_type": "code",
   "execution_count": 38,
   "metadata": {
    "_uuid": "7d4b980a7a6a2867b0f44e8b2355edeff3b98479",
    "execution": {
     "iopub.execute_input": "2022-06-14T03:59:00.828027Z",
     "iopub.status.busy": "2022-06-14T03:59:00.827496Z",
     "iopub.status.idle": "2022-06-14T03:59:01.583110Z",
     "shell.execute_reply": "2022-06-14T03:59:01.582143Z",
     "shell.execute_reply.started": "2022-06-14T03:59:00.827745Z"
    }
   },
   "outputs": [
    {
     "data": {
      "text/html": [
       "<div>\n",
       "<style scoped>\n",
       "    .dataframe tbody tr th:only-of-type {\n",
       "        vertical-align: middle;\n",
       "    }\n",
       "\n",
       "    .dataframe tbody tr th {\n",
       "        vertical-align: top;\n",
       "    }\n",
       "\n",
       "    .dataframe thead th {\n",
       "        text-align: right;\n",
       "    }\n",
       "</style>\n",
       "<table border=\"1\" class=\"dataframe\">\n",
       "  <thead>\n",
       "    <tr style=\"text-align: right;\">\n",
       "      <th></th>\n",
       "      <th>year</th>\n",
       "      <th>wqi</th>\n",
       "    </tr>\n",
       "  </thead>\n",
       "  <tbody>\n",
       "    <tr>\n",
       "      <th>0</th>\n",
       "      <td>2006</td>\n",
       "      <td>71.308824</td>\n",
       "    </tr>\n",
       "    <tr>\n",
       "      <th>1</th>\n",
       "      <td>2007</td>\n",
       "      <td>72.549000</td>\n",
       "    </tr>\n",
       "    <tr>\n",
       "      <th>2</th>\n",
       "      <td>2008</td>\n",
       "      <td>72.570943</td>\n",
       "    </tr>\n",
       "    <tr>\n",
       "      <th>3</th>\n",
       "      <td>2009</td>\n",
       "      <td>74.085193</td>\n",
       "    </tr>\n",
       "    <tr>\n",
       "      <th>4</th>\n",
       "      <td>2010</td>\n",
       "      <td>74.648723</td>\n",
       "    </tr>\n",
       "    <tr>\n",
       "      <th>5</th>\n",
       "      <td>2011</td>\n",
       "      <td>75.647013</td>\n",
       "    </tr>\n",
       "    <tr>\n",
       "      <th>6</th>\n",
       "      <td>2012</td>\n",
       "      <td>78.969041</td>\n",
       "    </tr>\n",
       "    <tr>\n",
       "      <th>7</th>\n",
       "      <td>2013</td>\n",
       "      <td>75.009425</td>\n",
       "    </tr>\n",
       "    <tr>\n",
       "      <th>8</th>\n",
       "      <td>2014</td>\n",
       "      <td>76.879588</td>\n",
       "    </tr>\n",
       "  </tbody>\n",
       "</table>\n",
       "</div>"
      ],
      "text/plain": [
       "   year        wqi\n",
       "0  2006  71.308824\n",
       "1  2007  72.549000\n",
       "2  2008  72.570943\n",
       "3  2009  74.085193\n",
       "4  2010  74.648723\n",
       "5  2011  75.647013\n",
       "6  2012  78.969041\n",
       "7  2013  75.009425\n",
       "8  2014  76.879588"
      ]
     },
     "execution_count": 38,
     "metadata": {},
     "output_type": "execute_result"
    }
   ],
   "source": [
    "from sklearn import neighbors,datasets\n",
    "data=data.reset_index(level=0,inplace=False)\n",
    "data"
   ]
  },
  {
   "cell_type": "code",
   "execution_count": 39,
   "metadata": {
    "_uuid": "4f56fb9c29458e057324bddba5353b8e824bfd8a",
    "execution": {
     "iopub.execute_input": "2022-06-14T03:59:01.584648Z",
     "iopub.status.busy": "2022-06-14T03:59:01.584330Z",
     "iopub.status.idle": "2022-06-14T03:59:01.701275Z",
     "shell.execute_reply": "2022-06-14T03:59:01.700121Z",
     "shell.execute_reply.started": "2022-06-14T03:59:01.584585Z"
    }
   },
   "outputs": [],
   "source": [
    "#using linear regression to predict\n",
    "from sklearn import linear_model\n",
    "from sklearn.model_selection import train_test_split"
   ]
  },
  {
   "cell_type": "code",
   "execution_count": 40,
   "metadata": {
    "_uuid": "742901bc94bd37fe23000af6a6011466e97874a1",
    "execution": {
     "iopub.execute_input": "2022-06-14T03:59:01.703355Z",
     "iopub.status.busy": "2022-06-14T03:59:01.702725Z",
     "iopub.status.idle": "2022-06-14T03:59:01.708203Z",
     "shell.execute_reply": "2022-06-14T03:59:01.707293Z",
     "shell.execute_reply.started": "2022-06-14T03:59:01.703141Z"
    }
   },
   "outputs": [],
   "source": [
    "cols =['year']"
   ]
  },
  {
   "cell_type": "code",
   "execution_count": 41,
   "metadata": {
    "_uuid": "09501a049da5fa33e11e80069f8c65c651c5a0a5",
    "execution": {
     "iopub.execute_input": "2022-06-14T03:59:01.710176Z",
     "iopub.status.busy": "2022-06-14T03:59:01.709580Z",
     "iopub.status.idle": "2022-06-14T03:59:01.720943Z",
     "shell.execute_reply": "2022-06-14T03:59:01.719952Z",
     "shell.execute_reply.started": "2022-06-14T03:59:01.710118Z"
    }
   },
   "outputs": [],
   "source": [
    "y = data['wqi']\n",
    "x=data[cols]"
   ]
  },
  {
   "cell_type": "code",
   "execution_count": 42,
   "metadata": {
    "_uuid": "8c3851759e9fd00b17bc37ed8f2683437e7fe23f",
    "execution": {
     "iopub.execute_input": "2022-06-14T03:59:01.728133Z",
     "iopub.status.busy": "2022-06-14T03:59:01.727473Z",
     "iopub.status.idle": "2022-06-14T03:59:01.737397Z",
     "shell.execute_reply": "2022-06-14T03:59:01.736135Z",
     "shell.execute_reply.started": "2022-06-14T03:59:01.728029Z"
    }
   },
   "outputs": [],
   "source": [
    "reg=linear_model.LinearRegression()\n",
    "x_train,x_test,y_train,y_test=train_test_split(x,y,test_size=0.2,random_state=4)"
   ]
  },
  {
   "cell_type": "code",
   "execution_count": 43,
   "metadata": {
    "_uuid": "a6f684f7c09a95c8ec3a4482c19014882a132e09",
    "execution": {
     "iopub.execute_input": "2022-06-14T03:59:01.740124Z",
     "iopub.status.busy": "2022-06-14T03:59:01.739407Z",
     "iopub.status.idle": "2022-06-14T03:59:01.763590Z",
     "shell.execute_reply": "2022-06-14T03:59:01.762622Z",
     "shell.execute_reply.started": "2022-06-14T03:59:01.740056Z"
    }
   },
   "outputs": [
    {
     "data": {
      "text/html": [
       "<style>#sk-container-id-1 {color: black;background-color: white;}#sk-container-id-1 pre{padding: 0;}#sk-container-id-1 div.sk-toggleable {background-color: white;}#sk-container-id-1 label.sk-toggleable__label {cursor: pointer;display: block;width: 100%;margin-bottom: 0;padding: 0.3em;box-sizing: border-box;text-align: center;}#sk-container-id-1 label.sk-toggleable__label-arrow:before {content: \"▸\";float: left;margin-right: 0.25em;color: #696969;}#sk-container-id-1 label.sk-toggleable__label-arrow:hover:before {color: black;}#sk-container-id-1 div.sk-estimator:hover label.sk-toggleable__label-arrow:before {color: black;}#sk-container-id-1 div.sk-toggleable__content {max-height: 0;max-width: 0;overflow: hidden;text-align: left;background-color: #f0f8ff;}#sk-container-id-1 div.sk-toggleable__content pre {margin: 0.2em;color: black;border-radius: 0.25em;background-color: #f0f8ff;}#sk-container-id-1 input.sk-toggleable__control:checked~div.sk-toggleable__content {max-height: 200px;max-width: 100%;overflow: auto;}#sk-container-id-1 input.sk-toggleable__control:checked~label.sk-toggleable__label-arrow:before {content: \"▾\";}#sk-container-id-1 div.sk-estimator input.sk-toggleable__control:checked~label.sk-toggleable__label {background-color: #d4ebff;}#sk-container-id-1 div.sk-label input.sk-toggleable__control:checked~label.sk-toggleable__label {background-color: #d4ebff;}#sk-container-id-1 input.sk-hidden--visually {border: 0;clip: rect(1px 1px 1px 1px);clip: rect(1px, 1px, 1px, 1px);height: 1px;margin: -1px;overflow: hidden;padding: 0;position: absolute;width: 1px;}#sk-container-id-1 div.sk-estimator {font-family: monospace;background-color: #f0f8ff;border: 1px dotted black;border-radius: 0.25em;box-sizing: border-box;margin-bottom: 0.5em;}#sk-container-id-1 div.sk-estimator:hover {background-color: #d4ebff;}#sk-container-id-1 div.sk-parallel-item::after {content: \"\";width: 100%;border-bottom: 1px solid gray;flex-grow: 1;}#sk-container-id-1 div.sk-label:hover label.sk-toggleable__label {background-color: #d4ebff;}#sk-container-id-1 div.sk-serial::before {content: \"\";position: absolute;border-left: 1px solid gray;box-sizing: border-box;top: 0;bottom: 0;left: 50%;z-index: 0;}#sk-container-id-1 div.sk-serial {display: flex;flex-direction: column;align-items: center;background-color: white;padding-right: 0.2em;padding-left: 0.2em;position: relative;}#sk-container-id-1 div.sk-item {position: relative;z-index: 1;}#sk-container-id-1 div.sk-parallel {display: flex;align-items: stretch;justify-content: center;background-color: white;position: relative;}#sk-container-id-1 div.sk-item::before, #sk-container-id-1 div.sk-parallel-item::before {content: \"\";position: absolute;border-left: 1px solid gray;box-sizing: border-box;top: 0;bottom: 0;left: 50%;z-index: -1;}#sk-container-id-1 div.sk-parallel-item {display: flex;flex-direction: column;z-index: 1;position: relative;background-color: white;}#sk-container-id-1 div.sk-parallel-item:first-child::after {align-self: flex-end;width: 50%;}#sk-container-id-1 div.sk-parallel-item:last-child::after {align-self: flex-start;width: 50%;}#sk-container-id-1 div.sk-parallel-item:only-child::after {width: 0;}#sk-container-id-1 div.sk-dashed-wrapped {border: 1px dashed gray;margin: 0 0.4em 0.5em 0.4em;box-sizing: border-box;padding-bottom: 0.4em;background-color: white;}#sk-container-id-1 div.sk-label label {font-family: monospace;font-weight: bold;display: inline-block;line-height: 1.2em;}#sk-container-id-1 div.sk-label-container {text-align: center;}#sk-container-id-1 div.sk-container {/* jupyter's `normalize.less` sets `[hidden] { display: none; }` but bootstrap.min.css set `[hidden] { display: none !important; }` so we also need the `!important` here to be able to override the default hidden behavior on the sphinx rendered scikit-learn.org. See: https://github.com/scikit-learn/scikit-learn/issues/21755 */display: inline-block !important;position: relative;}#sk-container-id-1 div.sk-text-repr-fallback {display: none;}</style><div id=\"sk-container-id-1\" class=\"sk-top-container\"><div class=\"sk-text-repr-fallback\"><pre>LinearRegression()</pre><b>In a Jupyter environment, please rerun this cell to show the HTML representation or trust the notebook. <br />On GitHub, the HTML representation is unable to render, please try loading this page with nbviewer.org.</b></div><div class=\"sk-container\" hidden><div class=\"sk-item\"><div class=\"sk-estimator sk-toggleable\"><input class=\"sk-toggleable__control sk-hidden--visually\" id=\"sk-estimator-id-1\" type=\"checkbox\" checked><label for=\"sk-estimator-id-1\" class=\"sk-toggleable__label sk-toggleable__label-arrow\">LinearRegression</label><div class=\"sk-toggleable__content\"><pre>LinearRegression()</pre></div></div></div></div></div>"
      ],
      "text/plain": [
       "LinearRegression()"
      ]
     },
     "execution_count": 43,
     "metadata": {},
     "output_type": "execute_result"
    }
   ],
   "source": [
    "reg.fit(x_train,y_train)"
   ]
  },
  {
   "cell_type": "code",
   "execution_count": 44,
   "metadata": {
    "_uuid": "409ed4c7a7927a850900cc696eb6e69defca35ce",
    "execution": {
     "iopub.execute_input": "2022-06-14T03:59:01.765705Z",
     "iopub.status.busy": "2022-06-14T03:59:01.765069Z",
     "iopub.status.idle": "2022-06-14T03:59:01.773335Z",
     "shell.execute_reply": "2022-06-14T03:59:01.772075Z",
     "shell.execute_reply.started": "2022-06-14T03:59:01.765643Z"
    }
   },
   "outputs": [
    {
     "data": {
      "text/plain": [
       "array([73.86206246, 74.59948715])"
      ]
     },
     "execution_count": 44,
     "metadata": {},
     "output_type": "execute_result"
    }
   ],
   "source": [
    "a=reg.predict(x_test)\n",
    "a"
   ]
  },
  {
   "cell_type": "code",
   "execution_count": 45,
   "metadata": {
    "_uuid": "3fd10b89a0f2a9f0cf007b18ca8fcdb2efec0abf",
    "execution": {
     "iopub.execute_input": "2022-06-14T03:59:01.775625Z",
     "iopub.status.busy": "2022-06-14T03:59:01.774983Z",
     "iopub.status.idle": "2022-06-14T03:59:01.785969Z",
     "shell.execute_reply": "2022-06-14T03:59:01.785039Z",
     "shell.execute_reply.started": "2022-06-14T03:59:01.775564Z"
    }
   },
   "outputs": [
    {
     "data": {
      "text/plain": [
       "3    74.085193\n",
       "4    74.648723\n",
       "Name: wqi, dtype: float64"
      ]
     },
     "execution_count": 45,
     "metadata": {},
     "output_type": "execute_result"
    }
   ],
   "source": [
    "y_test"
   ]
  },
  {
   "cell_type": "code",
   "execution_count": 46,
   "metadata": {
    "_uuid": "5b036e752c47885097cbae6e2c5f5c0a27400925",
    "execution": {
     "iopub.execute_input": "2022-06-14T03:59:01.788200Z",
     "iopub.status.busy": "2022-06-14T03:59:01.787564Z",
     "iopub.status.idle": "2022-06-14T03:59:01.797009Z",
     "shell.execute_reply": "2022-06-14T03:59:01.796114Z",
     "shell.execute_reply.started": "2022-06-14T03:59:01.788141Z"
    }
   },
   "outputs": [
    {
     "name": "stdout",
     "output_type": "stream",
     "text": [
      "mse:0.03\n"
     ]
    }
   ],
   "source": [
    "from sklearn.metrics import mean_squared_error\n",
    "print('mse:%.2f'%mean_squared_error(y_test,a))"
   ]
  },
  {
   "cell_type": "code",
   "execution_count": 47,
   "metadata": {
    "_uuid": "4cd1d3bcf67c3b93ee5c7f686c2f20eb6177077b",
    "execution": {
     "iopub.execute_input": "2022-06-14T03:59:01.799411Z",
     "iopub.status.busy": "2022-06-14T03:59:01.798420Z",
     "iopub.status.idle": "2022-06-14T03:59:01.807808Z",
     "shell.execute_reply": "2022-06-14T03:59:01.806965Z",
     "shell.execute_reply.started": "2022-06-14T03:59:01.799351Z"
    }
   },
   "outputs": [],
   "source": [
    "dt = pd.DataFrame({'Actual': y_test, 'Predicted': a}) "
   ]
  },
  {
   "cell_type": "code",
   "execution_count": 48,
   "metadata": {
    "_uuid": "607dc99b713a8bca3f17310cdd2636c0a2e5a561",
    "execution": {
     "iopub.execute_input": "2022-06-14T03:59:01.809730Z",
     "iopub.status.busy": "2022-06-14T03:59:01.809073Z",
     "iopub.status.idle": "2022-06-14T03:59:01.827946Z",
     "shell.execute_reply": "2022-06-14T03:59:01.826979Z",
     "shell.execute_reply.started": "2022-06-14T03:59:01.809667Z"
    }
   },
   "outputs": [
    {
     "data": {
      "text/plain": [
       "array([[ 1.        , -1.46059349],\n",
       "       [ 1.        , -1.09544512],\n",
       "       [ 1.        , -0.73029674],\n",
       "       [ 1.        , -0.36514837],\n",
       "       [ 1.        ,  0.        ],\n",
       "       [ 1.        ,  0.36514837],\n",
       "       [ 1.        ,  0.73029674],\n",
       "       [ 1.        ,  1.09544512],\n",
       "       [ 1.        ,  1.46059349]])"
      ]
     },
     "execution_count": 48,
     "metadata": {},
     "output_type": "execute_result"
    }
   ],
   "source": [
    "#using gradient descent to optimize it further\n",
    "x = (x - x.mean()) / x.std()\n",
    "x = np.c_[np.ones(x.shape[0]), x]\n",
    "x"
   ]
  },
  {
   "cell_type": "code",
   "execution_count": 49,
   "metadata": {
    "_uuid": "1396f1dc86d121828a0258c0e4bd207f077a4a04",
    "execution": {
     "iopub.execute_input": "2022-06-14T03:59:01.830026Z",
     "iopub.status.busy": "2022-06-14T03:59:01.829424Z",
     "iopub.status.idle": "2022-06-14T03:59:02.265885Z",
     "shell.execute_reply": "2022-06-14T03:59:02.264120Z",
     "shell.execute_reply.started": "2022-06-14T03:59:01.829963Z"
    }
   },
   "outputs": [
    {
     "name": "stdout",
     "output_type": "stream",
     "text": [
      "Gradient Descent: 74.63, 2.01\n"
     ]
    }
   ],
   "source": [
    "alpha = 0.1 #Step size\n",
    "iterations = 3000 #No. of iterations\n",
    "m = y.size #No. of data points\n",
    "np.random.seed(4) #Setting the seed\n",
    "theta = np.random.rand(2) #Picking some random values to start with\n",
    "\n",
    "def gradient_descent(x, y, theta, iterations, alpha):\n",
    "    past_costs = []\n",
    "    past_thetas = [theta]\n",
    "    for i in range(iterations):\n",
    "        prediction = np.dot(x, theta)\n",
    "        error = prediction - y\n",
    "        cost = 1/(2*m) * np.dot(error.T, error)\n",
    "        past_costs.append(cost)\n",
    "        theta = theta - (alpha * (1/m) * np.dot(x.T, error))\n",
    "        past_thetas.append(theta)\n",
    "        \n",
    "    return past_thetas, past_costs\n",
    "\n",
    "past_thetas, past_costs = gradient_descent(x, y, theta, iterations, alpha)\n",
    "theta = past_thetas[-1]\n",
    "\n",
    "#Print the results...\n",
    "print(\"Gradient Descent: {:.2f}, {:.2f}\".format(theta[0], theta[1]))"
   ]
  },
  {
   "cell_type": "code",
   "execution_count": 50,
   "metadata": {
    "_uuid": "99ac723a4e07fae2ba319ba9ebafb36012ead100",
    "execution": {
     "iopub.execute_input": "2022-06-14T03:59:02.267203Z",
     "iopub.status.busy": "2022-06-14T03:59:02.266934Z",
     "iopub.status.idle": "2022-06-14T03:59:02.734843Z",
     "shell.execute_reply": "2022-06-14T03:59:02.733686Z",
     "shell.execute_reply.started": "2022-06-14T03:59:02.267146Z"
    }
   },
   "outputs": [
    {
     "data": {
      "image/png": "[encoded data removed]",
      "text/plain": [
       "<Figure size 432x288 with 1 Axes>"
      ]
     },
     "metadata": {
      "needs_background": "light"
     },
     "output_type": "display_data"
    }
   ],
   "source": [
    "plt.title('Cost Function J')\n",
    "plt.xlabel('No. of iterations')\n",
    "plt.ylabel('Cost')\n",
    "plt.plot(past_costs)\n",
    "plt.show()"
   ]
  },
  {
   "cell_type": "code",
   "execution_count": 51,
   "metadata": {
    "_uuid": "f7223e19520ef52186975058d30267ad8176cdc4",
    "execution": {
     "iopub.execute_input": "2022-06-14T03:59:02.736066Z",
     "iopub.status.busy": "2022-06-14T03:59:02.735793Z",
     "iopub.status.idle": "2022-06-14T03:59:02.757235Z",
     "shell.execute_reply": "2022-06-14T03:59:02.756056Z",
     "shell.execute_reply.started": "2022-06-14T03:59:02.736019Z"
    }
   },
   "outputs": [
    {
     "data": {
      "text/html": [
       "<div>\n",
       "<style scoped>\n",
       "    .dataframe tbody tr th:only-of-type {\n",
       "        vertical-align: middle;\n",
       "    }\n",
       "\n",
       "    .dataframe tbody tr th {\n",
       "        vertical-align: top;\n",
       "    }\n",
       "\n",
       "    .dataframe thead th {\n",
       "        text-align: right;\n",
       "    }\n",
       "</style>\n",
       "<table border=\"1\" class=\"dataframe\">\n",
       "  <thead>\n",
       "    <tr style=\"text-align: right;\">\n",
       "      <th></th>\n",
       "      <th>year</th>\n",
       "      <th>wqi</th>\n",
       "      <th>Actual</th>\n",
       "      <th>Predicted</th>\n",
       "    </tr>\n",
       "  </thead>\n",
       "  <tbody>\n",
       "    <tr>\n",
       "      <th>0</th>\n",
       "      <td>2006</td>\n",
       "      <td>71.308824</td>\n",
       "      <td>71.308824</td>\n",
       "      <td>71.648936</td>\n",
       "    </tr>\n",
       "    <tr>\n",
       "      <th>1</th>\n",
       "      <td>2007</td>\n",
       "      <td>72.549000</td>\n",
       "      <td>72.549000</td>\n",
       "      <td>72.426702</td>\n",
       "    </tr>\n",
       "    <tr>\n",
       "      <th>2</th>\n",
       "      <td>2008</td>\n",
       "      <td>72.570943</td>\n",
       "      <td>72.570943</td>\n",
       "      <td>73.204468</td>\n",
       "    </tr>\n",
       "    <tr>\n",
       "      <th>3</th>\n",
       "      <td>2009</td>\n",
       "      <td>74.085193</td>\n",
       "      <td>74.085193</td>\n",
       "      <td>73.982234</td>\n",
       "    </tr>\n",
       "    <tr>\n",
       "      <th>4</th>\n",
       "      <td>2010</td>\n",
       "      <td>74.648723</td>\n",
       "      <td>74.648723</td>\n",
       "      <td>74.760000</td>\n",
       "    </tr>\n",
       "    <tr>\n",
       "      <th>5</th>\n",
       "      <td>2011</td>\n",
       "      <td>75.647013</td>\n",
       "      <td>75.647013</td>\n",
       "      <td>75.537766</td>\n",
       "    </tr>\n",
       "    <tr>\n",
       "      <th>6</th>\n",
       "      <td>2012</td>\n",
       "      <td>78.969041</td>\n",
       "      <td>78.969041</td>\n",
       "      <td>76.315532</td>\n",
       "    </tr>\n",
       "    <tr>\n",
       "      <th>7</th>\n",
       "      <td>2013</td>\n",
       "      <td>75.009425</td>\n",
       "      <td>75.009425</td>\n",
       "      <td>77.093298</td>\n",
       "    </tr>\n",
       "    <tr>\n",
       "      <th>8</th>\n",
       "      <td>2014</td>\n",
       "      <td>76.879588</td>\n",
       "      <td>76.879588</td>\n",
       "      <td>77.871064</td>\n",
       "    </tr>\n",
       "  </tbody>\n",
       "</table>\n",
       "</div>"
      ],
      "text/plain": [
       "   year        wqi     Actual  Predicted\n",
       "0  2006  71.308824  71.308824  71.648936\n",
       "1  2007  72.549000  72.549000  72.426702\n",
       "2  2008  72.570943  72.570943  73.204468\n",
       "3  2009  74.085193  74.085193  73.982234\n",
       "4  2010  74.648723  74.648723  74.760000\n",
       "5  2011  75.647013  75.647013  75.537766\n",
       "6  2012  78.969041  78.969041  76.315532\n",
       "7  2013  75.009425  75.009425  77.093298\n",
       "8  2014  76.879588  76.879588  77.871064"
      ]
     },
     "execution_count": 51,
     "metadata": {},
     "output_type": "execute_result"
    }
   ],
   "source": [
    "#prediction of january(2013-2015) across india\n",
    "import numpy as np\n",
    "newB=[74.76, 2.13]\n",
    "\n",
    "def rmse(y,y_pred):\n",
    "    rmse= np.sqrt(sum(y-y_pred))\n",
    "    return rmse\n",
    "   \n",
    "\n",
    "y_pred=x.dot(newB)\n",
    "\n",
    "dt = pd.DataFrame({'Actual': y, 'Predicted': y_pred})  \n",
    "dt=pd.concat([data, dt], axis=1)\n",
    "dt"
   ]
  },
  {
   "cell_type": "code",
   "execution_count": 52,
   "metadata": {
    "_uuid": "c8c54e1dc1d1ff3d76ac1c22ea0acfaacc181ba1",
    "execution": {
     "iopub.execute_input": "2022-06-14T03:59:02.758614Z",
     "iopub.status.busy": "2022-06-14T03:59:02.758314Z",
     "iopub.status.idle": "2022-06-14T03:59:02.768789Z",
     "shell.execute_reply": "2022-06-14T03:59:02.767826Z",
     "shell.execute_reply.started": "2022-06-14T03:59:02.758538Z"
    }
   },
   "outputs": [
    {
     "name": "stdout",
     "output_type": "stream",
     "text": [
      "1.1987755149740729\n"
     ]
    }
   ],
   "source": [
    "#testing the accuracy of the model\n",
    "\n",
    "from sklearn import metrics\n",
    "print(np.sqrt(metrics.mean_squared_error(y,y_pred)))\n",
    "   "
   ]
  },
  {
   "cell_type": "code",
   "execution_count": 53,
   "metadata": {
    "_uuid": "778efd068d3543a54f0f6b45c66a956e1a430468",
    "execution": {
     "iopub.execute_input": "2022-06-14T03:59:02.770095Z",
     "iopub.status.busy": "2022-06-14T03:59:02.769825Z",
     "iopub.status.idle": "2022-06-14T03:59:03.286578Z",
     "shell.execute_reply": "2022-06-14T03:59:03.285376Z",
     "shell.execute_reply.started": "2022-06-14T03:59:02.770036Z"
    }
   },
   "outputs": [
    {
     "data": {
      "image/png": "[encoded data removed]",
      "text/plain": [
       "<Figure size 432x288 with 1 Axes>"
      ]
     },
     "metadata": {
      "needs_background": "light"
     },
     "output_type": "display_data"
    }
   ],
   "source": [
    "#plotting the actual and predicted results\n",
    "x_axis=dt.year\n",
    "y_axis=dt.Actual\n",
    "y1_axis=dt.Predicted\n",
    "plt.scatter(x_axis,y_axis)\n",
    "plt.plot(x_axis,y1_axis,color='r')\n",
    "plt.title(\"linear regression\")\n",
    "\n",
    "plt.show()\n"
   ]
  }
 ],
 "metadata": {
  "kernelspec": {
   "display_name": "Python 3.10.5 64-bit (windows store)",
   "language": "python",
   "name": "python3"
  },
  "language_info": {
   "codemirror_mode": {
    "name": "ipython",
    "version": 3
   },
   "file_extension": ".py",
   "mimetype": "text/x-python",
   "name": "python",
   "nbconvert_exporter": "python",
   "pygments_lexer": "ipython3",
   "version": "3.10.5"
  },
  "vscode": {
   "interpreter": {
    "hash": "ba37d69516b96b2df66115ef342e83722e1a1518f5d2e0ee41eb08141fa2fe2a"
   }
  }
 },
 "nbformat": 4,
 "nbformat_minor": 4
}
